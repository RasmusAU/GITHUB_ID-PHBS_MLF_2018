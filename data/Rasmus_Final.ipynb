{
 "cells": [
  {
   "cell_type": "markdown",
   "metadata": {},
   "source": [
    "# NEW IMDB prediction"
   ]
  },
  {
   "cell_type": "markdown",
   "metadata": {},
   "source": [
    "__Import general modules start__"
   ]
  },
  {
   "cell_type": "code",
   "execution_count": 1,
   "metadata": {},
   "outputs": [],
   "source": [
    "import pandas as pd\n",
    "import numpy as np"
   ]
  },
  {
   "cell_type": "markdown",
   "metadata": {},
   "source": [
    "__Import general modules end__"
   ]
  },
  {
   "cell_type": "markdown",
   "metadata": {},
   "source": [
    "__Import data start__\n",
    "\n",
    "I sort the data due to chosen restrictions on how I define movies. If one of the actors or the directors name is missing, then the observation is dropped, since these features have a major impact and cannot be estimated using interpolation.\n",
    "Furthermore only movies in the 21st century are chosen, with movies having a budget and grossing above 100.000 USD, movies being from the US and being at least 80 minutes long (which defines a movie). These restrictions are made to make movies comparable."
   ]
  },
  {
   "cell_type": "code",
   "execution_count": 2,
   "metadata": {},
   "outputs": [],
   "source": [
    "df = pd.read_csv(\"/Users/Rasmus/Documents/AU/Udenlandsophold/PKU/Machine Learning for Finance/Exam/Project/IMDb/movie_metadata.csv\")\n",
    "df.columns = ['color', 'director_name', 'num_critic_for_reviews', 'duration', 'director_facebook_likes', 'actor_3_facebook_likes', 'actor_2_name', 'actor_1_facebook_likes', 'gross', 'genres', 'actor_1_name', 'movie_title', 'num_voted_users', 'cast_total_facebook_likes', 'actor_3_name', 'facenumber_in_poster', 'plot_keywords', 'movie_imdb_link', 'num_user_for_reviews', 'language', 'country', 'content_rating', 'budget', 'title_year', 'actor_2_facebook_likes', 'imdb_score', 'aspect_ratio', 'movie_facebook_likes']\n",
    "df = df.dropna(subset=['title_year']) # Drops since it does not make sense to take mean of the years for the other movies.\n",
    "df = df.dropna(subset=['director_name'])\n",
    "df = df.dropna(subset=['actor_1_name'])\n",
    "df = df.dropna(subset=['actor_2_name'])\n",
    "df = df.dropna(subset=['actor_3_name'])\n",
    "df = df.dropna(subset=['movie_title'])\n",
    "df = df.dropna(subset=['aspect_ratio'])\n",
    "df = df[~(df['title_year'] <= 1999)]\n",
    "df = df[~(df['budget'] <= 100000)]\n",
    "df = df[~(df['gross'] <= 100000)]\n",
    "df = df[~(df['color'] != 'Color')]\n",
    "df = df[~(df['country'] != 'USA')]\n",
    "df = df[~(df['duration'] <= 80)]\n",
    "\n",
    "#df.imdb_score = np.around((round(df['imdb_score']))) # Parten IMDb scores into groups by 1 rating intervals\n",
    "#df.imdb_score = df.imdb_score.astype('int')\n",
    "df = df[~(df['imdb_score'] <= 3)]\n",
    "df = df[~(df['imdb_score'] >= 9)]\n",
    "# Correcting for outliers and not enough observations.\n"
   ]
  },
  {
   "cell_type": "markdown",
   "metadata": {},
   "source": [
    "__Import data end__"
   ]
  },
  {
   "cell_type": "markdown",
   "metadata": {},
   "source": [
    "__Data description start__"
   ]
  },
  {
   "cell_type": "code",
   "execution_count": 3,
   "metadata": {},
   "outputs": [
    {
     "data": {
      "text/plain": [
       "<Figure size 640x480 with 1 Axes>"
      ]
     },
     "metadata": {},
     "output_type": "display_data"
    },
    {
     "name": "stdout",
     "output_type": "stream",
     "text": [
      "Number of observations = 2227\n",
      "μ = 6.29 , σ = 0.99\n"
     ]
    },
    {
     "data": {
      "text/html": [
       "<div>\n",
       "<style scoped>\n",
       "    .dataframe tbody tr th:only-of-type {\n",
       "        vertical-align: middle;\n",
       "    }\n",
       "\n",
       "    .dataframe tbody tr th {\n",
       "        vertical-align: top;\n",
       "    }\n",
       "\n",
       "    .dataframe thead th {\n",
       "        text-align: right;\n",
       "    }\n",
       "</style>\n",
       "<table border=\"1\" class=\"dataframe\">\n",
       "  <thead>\n",
       "    <tr style=\"text-align: right;\">\n",
       "      <th></th>\n",
       "      <th>color</th>\n",
       "      <th>director_name</th>\n",
       "      <th>num_critic_for_reviews</th>\n",
       "      <th>duration</th>\n",
       "      <th>director_facebook_likes</th>\n",
       "      <th>actor_3_facebook_likes</th>\n",
       "      <th>actor_2_name</th>\n",
       "      <th>actor_1_facebook_likes</th>\n",
       "      <th>gross</th>\n",
       "      <th>genres</th>\n",
       "      <th>...</th>\n",
       "      <th>num_user_for_reviews</th>\n",
       "      <th>language</th>\n",
       "      <th>country</th>\n",
       "      <th>content_rating</th>\n",
       "      <th>budget</th>\n",
       "      <th>title_year</th>\n",
       "      <th>actor_2_facebook_likes</th>\n",
       "      <th>imdb_score</th>\n",
       "      <th>aspect_ratio</th>\n",
       "      <th>movie_facebook_likes</th>\n",
       "    </tr>\n",
       "  </thead>\n",
       "  <tbody>\n",
       "    <tr>\n",
       "      <th>4993</th>\n",
       "      <td>Color</td>\n",
       "      <td>William Eubank</td>\n",
       "      <td>161.0</td>\n",
       "      <td>97.0</td>\n",
       "      <td>18.0</td>\n",
       "      <td>236.0</td>\n",
       "      <td>Olivia Cooke</td>\n",
       "      <td>852.0</td>\n",
       "      <td>NaN</td>\n",
       "      <td>Sci-Fi|Thriller</td>\n",
       "      <td>...</td>\n",
       "      <td>180.0</td>\n",
       "      <td>English</td>\n",
       "      <td>USA</td>\n",
       "      <td>PG-13</td>\n",
       "      <td>4000000.0</td>\n",
       "      <td>2014.0</td>\n",
       "      <td>680.0</td>\n",
       "      <td>6.1</td>\n",
       "      <td>2.35</td>\n",
       "      <td>10000</td>\n",
       "    </tr>\n",
       "    <tr>\n",
       "      <th>5010</th>\n",
       "      <td>Color</td>\n",
       "      <td>Andrew Bujalski</td>\n",
       "      <td>43.0</td>\n",
       "      <td>85.0</td>\n",
       "      <td>26.0</td>\n",
       "      <td>3.0</td>\n",
       "      <td>Kate Dollenmayer</td>\n",
       "      <td>26.0</td>\n",
       "      <td>NaN</td>\n",
       "      <td>Comedy|Drama</td>\n",
       "      <td>...</td>\n",
       "      <td>61.0</td>\n",
       "      <td>English</td>\n",
       "      <td>USA</td>\n",
       "      <td>NaN</td>\n",
       "      <td>NaN</td>\n",
       "      <td>2002.0</td>\n",
       "      <td>6.0</td>\n",
       "      <td>6.4</td>\n",
       "      <td>1.37</td>\n",
       "      <td>108</td>\n",
       "    </tr>\n",
       "    <tr>\n",
       "      <th>5012</th>\n",
       "      <td>Color</td>\n",
       "      <td>David Ayer</td>\n",
       "      <td>233.0</td>\n",
       "      <td>109.0</td>\n",
       "      <td>453.0</td>\n",
       "      <td>120.0</td>\n",
       "      <td>Martin Donovan</td>\n",
       "      <td>1000.0</td>\n",
       "      <td>10499968.0</td>\n",
       "      <td>Action|Crime|Drama|Thriller</td>\n",
       "      <td>...</td>\n",
       "      <td>212.0</td>\n",
       "      <td>English</td>\n",
       "      <td>USA</td>\n",
       "      <td>R</td>\n",
       "      <td>35000000.0</td>\n",
       "      <td>2014.0</td>\n",
       "      <td>206.0</td>\n",
       "      <td>5.7</td>\n",
       "      <td>1.85</td>\n",
       "      <td>10000</td>\n",
       "    </tr>\n",
       "    <tr>\n",
       "      <th>5019</th>\n",
       "      <td>Color</td>\n",
       "      <td>Marcus Nispel</td>\n",
       "      <td>43.0</td>\n",
       "      <td>91.0</td>\n",
       "      <td>158.0</td>\n",
       "      <td>265.0</td>\n",
       "      <td>Brittany Curran</td>\n",
       "      <td>630.0</td>\n",
       "      <td>NaN</td>\n",
       "      <td>Horror|Mystery|Thriller</td>\n",
       "      <td>...</td>\n",
       "      <td>33.0</td>\n",
       "      <td>English</td>\n",
       "      <td>USA</td>\n",
       "      <td>R</td>\n",
       "      <td>NaN</td>\n",
       "      <td>2015.0</td>\n",
       "      <td>512.0</td>\n",
       "      <td>4.6</td>\n",
       "      <td>1.85</td>\n",
       "      <td>0</td>\n",
       "    </tr>\n",
       "    <tr>\n",
       "      <th>5031</th>\n",
       "      <td>Color</td>\n",
       "      <td>Thomas L. Phillips</td>\n",
       "      <td>13.0</td>\n",
       "      <td>82.0</td>\n",
       "      <td>120.0</td>\n",
       "      <td>84.0</td>\n",
       "      <td>Joe Coffey</td>\n",
       "      <td>785.0</td>\n",
       "      <td>NaN</td>\n",
       "      <td>Comedy|Horror|Thriller</td>\n",
       "      <td>...</td>\n",
       "      <td>8.0</td>\n",
       "      <td>English</td>\n",
       "      <td>USA</td>\n",
       "      <td>NaN</td>\n",
       "      <td>200000.0</td>\n",
       "      <td>2012.0</td>\n",
       "      <td>98.0</td>\n",
       "      <td>5.4</td>\n",
       "      <td>16.00</td>\n",
       "      <td>424</td>\n",
       "    </tr>\n",
       "  </tbody>\n",
       "</table>\n",
       "<p>5 rows × 28 columns</p>\n",
       "</div>"
      ],
      "text/plain": [
       "      color       director_name  num_critic_for_reviews  duration  \\\n",
       "4993  Color      William Eubank                   161.0      97.0   \n",
       "5010  Color     Andrew Bujalski                    43.0      85.0   \n",
       "5012  Color          David Ayer                   233.0     109.0   \n",
       "5019  Color       Marcus Nispel                    43.0      91.0   \n",
       "5031  Color  Thomas L. Phillips                    13.0      82.0   \n",
       "\n",
       "      director_facebook_likes  actor_3_facebook_likes      actor_2_name  \\\n",
       "4993                     18.0                   236.0      Olivia Cooke   \n",
       "5010                     26.0                     3.0  Kate Dollenmayer   \n",
       "5012                    453.0                   120.0    Martin Donovan   \n",
       "5019                    158.0                   265.0   Brittany Curran   \n",
       "5031                    120.0                    84.0        Joe Coffey   \n",
       "\n",
       "      actor_1_facebook_likes       gross                       genres  \\\n",
       "4993                   852.0         NaN              Sci-Fi|Thriller   \n",
       "5010                    26.0         NaN                 Comedy|Drama   \n",
       "5012                  1000.0  10499968.0  Action|Crime|Drama|Thriller   \n",
       "5019                   630.0         NaN      Horror|Mystery|Thriller   \n",
       "5031                   785.0         NaN       Comedy|Horror|Thriller   \n",
       "\n",
       "             ...          num_user_for_reviews language  country  \\\n",
       "4993         ...                         180.0  English      USA   \n",
       "5010         ...                          61.0  English      USA   \n",
       "5012         ...                         212.0  English      USA   \n",
       "5019         ...                          33.0  English      USA   \n",
       "5031         ...                           8.0  English      USA   \n",
       "\n",
       "      content_rating      budget  title_year actor_2_facebook_likes  \\\n",
       "4993           PG-13   4000000.0      2014.0                  680.0   \n",
       "5010             NaN         NaN      2002.0                    6.0   \n",
       "5012               R  35000000.0      2014.0                  206.0   \n",
       "5019               R         NaN      2015.0                  512.0   \n",
       "5031             NaN    200000.0      2012.0                   98.0   \n",
       "\n",
       "     imdb_score  aspect_ratio movie_facebook_likes  \n",
       "4993        6.1          2.35                10000  \n",
       "5010        6.4          1.37                  108  \n",
       "5012        5.7          1.85                10000  \n",
       "5019        4.6          1.85                    0  \n",
       "5031        5.4         16.00                  424  \n",
       "\n",
       "[5 rows x 28 columns]"
      ]
     },
     "execution_count": 3,
     "metadata": {},
     "output_type": "execute_result"
    }
   ],
   "source": [
    "import matplotlib.pyplot as plt\n",
    "font = {'fontname':'Arial', 'size':'14'}\n",
    "title_font = { 'weight' : 'bold','size':'16'}\n",
    "plt.hist(df.imdb_score, bins=100)\n",
    "plt.axvline(df.imdb_score.mean(), color='k', linestyle='dashed', linewidth=1)\n",
    "plt.title(\"Distribution of the IMDb ratings\")\n",
    "plt.savefig('distribution_imdb_score_done.png', dpi=300)\n",
    "plt.show() # Shows distribution of IMDb scores\n",
    "mu = np.mean(df.imdb_score)\n",
    "std = np.std(df.imdb_score)\n",
    "print('Number of observations =', len(df.imdb_score))\n",
    "print('μ =', \"{0:.2f}\".format(round(mu,2)), ', σ =', \"{0:.2f}\".format(round(std,2)))\n",
    "df.tail()"
   ]
  },
  {
   "cell_type": "markdown",
   "metadata": {},
   "source": [
    "__Data description end__"
   ]
  },
  {
   "cell_type": "markdown",
   "metadata": {},
   "source": [
    "__Partitioning a dataset into a seperate training and test set start__"
   ]
  },
  {
   "cell_type": "code",
   "execution_count": 4,
   "metadata": {},
   "outputs": [],
   "source": [
    "X, y = df.iloc[:, [2,3,4,5,7,12,13,15,18,22,23,24,27]].values, df.iloc[:, 25].values\n",
    "#X.columns = ['num_critic_for_reviews', 'duration', 'director_facebook_likes', 'actor_3_facebook_likes', 'actor_1_facebook_likes', 'num_voted_users', 'cast_total_facebook_likes', 'facenumber_in_poster', 'num_user_for_reviews', 'budget', 'title_year', 'actor_2_facebook_likes', 'movie_facebook_likes']\n",
    "# 8 is gross, 25 is imdb_score, 23 is title_year\n",
    "# Listing features start\n",
    "df.isna().sum() # Displays NaN values per feature\n",
    "#Obtain mean of columns as you need, nanmean is just convenient.\n",
    "col_mean = np.nanmean(X, axis=0)\n",
    "\n",
    "#Find indicies that you need to replace\n",
    "inds = np.where(np.isnan(X))\n",
    "\n",
    "#Place column means in the indices. Align the arrays using take\n",
    "X[inds] = np.take(col_mean, inds[1])\n",
    "# Listing features end"
   ]
  },
  {
   "cell_type": "code",
   "execution_count": 5,
   "metadata": {},
   "outputs": [],
   "source": [
    "from sklearn.model_selection import train_test_split\n",
    "\n",
    "X_train, X_test, y_train, y_test = train_test_split(X, y, test_size=0.25, random_state=16)\n",
    "y=y.astype('int')\n",
    "y_train=y_train.astype('int') \n",
    "y_test=y_test.astype('int')\n",
    "\n",
    "from sklearn.preprocessing import MinMaxScaler\n",
    "\n",
    "mms = MinMaxScaler()\n",
    "X_train_norm = mms.fit_transform(X_train)\n",
    "X_test_norm = mms.transform(X_test)\n",
    "\n",
    "from sklearn.preprocessing import StandardScaler\n",
    "\n",
    "stdsc = StandardScaler()\n",
    "X_train_std = stdsc.fit_transform(X_train)\n",
    "X_train_std = X_train_std.astype('int')\n",
    "X_test_std = stdsc.transform(X_test)\n",
    "X_test_std = X_test_std.astype('int')"
   ]
  },
  {
   "cell_type": "markdown",
   "metadata": {},
   "source": [
    "__Partitioning a dataset into a seperate training and test set end__"
   ]
  },
  {
   "cell_type": "markdown",
   "metadata": {},
   "source": [
    "__Numeric features : imputation and scaling start__"
   ]
  },
  {
   "cell_type": "code",
   "execution_count": 6,
   "metadata": {},
   "outputs": [],
   "source": [
    "\n",
    "from sklearn.preprocessing import StandardScaler\n",
    "\n",
    "sc = StandardScaler()\n",
    "X_train_std = sc.fit_transform(X_train)\n",
    "X_test_std = sc.transform(X_test)\n"
   ]
  },
  {
   "cell_type": "code",
   "execution_count": 7,
   "metadata": {
    "scrolled": true
   },
   "outputs": [
    {
     "data": {
      "text/html": [
       "<div>\n",
       "<style scoped>\n",
       "    .dataframe tbody tr th:only-of-type {\n",
       "        vertical-align: middle;\n",
       "    }\n",
       "\n",
       "    .dataframe tbody tr th {\n",
       "        vertical-align: top;\n",
       "    }\n",
       "\n",
       "    .dataframe thead th {\n",
       "        text-align: right;\n",
       "    }\n",
       "</style>\n",
       "<table border=\"1\" class=\"dataframe\">\n",
       "  <thead>\n",
       "    <tr style=\"text-align: right;\">\n",
       "      <th></th>\n",
       "      <th>num_critic_for_reviews</th>\n",
       "      <th>duration</th>\n",
       "      <th>director_facebook_likes</th>\n",
       "      <th>actor_3_facebook_likes</th>\n",
       "      <th>actor_1_facebook_likes</th>\n",
       "      <th>gross</th>\n",
       "      <th>num_voted_users</th>\n",
       "      <th>cast_total_facebook_likes</th>\n",
       "      <th>facenumber_in_poster</th>\n",
       "      <th>num_user_for_reviews</th>\n",
       "      <th>budget</th>\n",
       "      <th>actor_2_facebook_likes</th>\n",
       "      <th>imdb_score</th>\n",
       "      <th>aspect_ratio</th>\n",
       "      <th>movie_facebook_likes</th>\n",
       "    </tr>\n",
       "  </thead>\n",
       "  <tbody>\n",
       "    <tr>\n",
       "      <th>0</th>\n",
       "      <td>4.067141</td>\n",
       "      <td>3.780888</td>\n",
       "      <td>-0.239969</td>\n",
       "      <td>-0.036356</td>\n",
       "      <td>-0.426027</td>\n",
       "      <td>9.434499</td>\n",
       "      <td>5.528678</td>\n",
       "      <td>-0.376799</td>\n",
       "      <td>-0.659250</td>\n",
       "      <td>6.893642</td>\n",
       "      <td>4.071582</td>\n",
       "      <td>-0.278803</td>\n",
       "      <td>1.618232</td>\n",
       "      <td>-0.503317</td>\n",
       "      <td>0.860551</td>\n",
       "    </tr>\n",
       "    <tr>\n",
       "      <th>1</th>\n",
       "      <td>0.863772</td>\n",
       "      <td>3.296309</td>\n",
       "      <td>-0.043887</td>\n",
       "      <td>0.028226</td>\n",
       "      <td>1.727316</td>\n",
       "      <td>3.381316</td>\n",
       "      <td>2.593887</td>\n",
       "      <td>1.586689</td>\n",
       "      <td>-0.659250</td>\n",
       "      <td>2.291609</td>\n",
       "      <td>5.402769</td>\n",
       "      <td>0.502388</td>\n",
       "      <td>0.812170</td>\n",
       "      <td>0.241554</td>\n",
       "      <td>-0.470696</td>\n",
       "    </tr>\n",
       "    <tr>\n",
       "      <th>3</th>\n",
       "      <td>4.751946</td>\n",
       "      <td>3.027099</td>\n",
       "      <td>7.422205</td>\n",
       "      <td>9.826934</td>\n",
       "      <td>1.009535</td>\n",
       "      <td>5.242840</td>\n",
       "      <td>7.354209</td>\n",
       "      <td>4.222166</td>\n",
       "      <td>-0.659250</td>\n",
       "      <td>5.999084</td>\n",
       "      <td>4.346271</td>\n",
       "      <td>3.962388</td>\n",
       "      <td>2.222779</td>\n",
       "      <td>0.241554</td>\n",
       "      <td>6.145201</td>\n",
       "    </tr>\n",
       "    <tr>\n",
       "      <th>5</th>\n",
       "      <td>2.081204</td>\n",
       "      <td>1.304153</td>\n",
       "      <td>-0.074535</td>\n",
       "      <td>-0.181110</td>\n",
       "      <td>-0.445904</td>\n",
       "      <td>0.209874</td>\n",
       "      <td>0.762111</td>\n",
       "      <td>-0.510403</td>\n",
       "      <td>-0.219816</td>\n",
       "      <td>1.024529</td>\n",
       "      <td>4.635751</td>\n",
       "      <td>-0.337238</td>\n",
       "      <td>0.308381</td>\n",
       "      <td>0.241554</td>\n",
       "      <td>0.497484</td>\n",
       "    </tr>\n",
       "    <tr>\n",
       "      <th>6</th>\n",
       "      <td>1.548577</td>\n",
       "      <td>2.596363</td>\n",
       "      <td>-0.239969</td>\n",
       "      <td>1.364413</td>\n",
       "      <td>0.843893</td>\n",
       "      <td>3.745312</td>\n",
       "      <td>1.970386</td>\n",
       "      <td>1.483136</td>\n",
       "      <td>-0.659250</td>\n",
       "      <td>3.974291</td>\n",
       "      <td>4.515311</td>\n",
       "      <td>1.655721</td>\n",
       "      <td>-0.094650</td>\n",
       "      <td>0.241554</td>\n",
       "      <td>-0.470696</td>\n",
       "    </tr>\n",
       "  </tbody>\n",
       "</table>\n",
       "</div>"
      ],
      "text/plain": [
       "   num_critic_for_reviews  duration  director_facebook_likes  \\\n",
       "0                4.067141  3.780888                -0.239969   \n",
       "1                0.863772  3.296309                -0.043887   \n",
       "3                4.751946  3.027099                 7.422205   \n",
       "5                2.081204  1.304153                -0.074535   \n",
       "6                1.548577  2.596363                -0.239969   \n",
       "\n",
       "   actor_3_facebook_likes  actor_1_facebook_likes     gross  num_voted_users  \\\n",
       "0               -0.036356               -0.426027  9.434499         5.528678   \n",
       "1                0.028226                1.727316  3.381316         2.593887   \n",
       "3                9.826934                1.009535  5.242840         7.354209   \n",
       "5               -0.181110               -0.445904  0.209874         0.762111   \n",
       "6                1.364413                0.843893  3.745312         1.970386   \n",
       "\n",
       "   cast_total_facebook_likes  facenumber_in_poster  num_user_for_reviews  \\\n",
       "0                  -0.376799             -0.659250              6.893642   \n",
       "1                   1.586689             -0.659250              2.291609   \n",
       "3                   4.222166             -0.659250              5.999084   \n",
       "5                  -0.510403             -0.219816              1.024529   \n",
       "6                   1.483136             -0.659250              3.974291   \n",
       "\n",
       "     budget  actor_2_facebook_likes  imdb_score  aspect_ratio  \\\n",
       "0  4.071582               -0.278803    1.618232     -0.503317   \n",
       "1  5.402769                0.502388    0.812170      0.241554   \n",
       "3  4.346271                3.962388    2.222779      0.241554   \n",
       "5  4.635751               -0.337238    0.308381      0.241554   \n",
       "6  4.515311                1.655721   -0.094650      0.241554   \n",
       "\n",
       "   movie_facebook_likes  \n",
       "0              0.860551  \n",
       "1             -0.470696  \n",
       "3              6.145201  \n",
       "5              0.497484  \n",
       "6             -0.470696  "
      ]
     },
     "execution_count": 7,
     "metadata": {},
     "output_type": "execute_result"
    }
   ],
   "source": [
    "numeric_features=df._get_numeric_data().columns.values.tolist()\n",
    "text_features=df.columns.values.tolist()\n",
    "text_features=[i for i in text_features if i not in numeric_features]\n",
    "string_features=[\"movie_title\", \"plot_keywords\"]\n",
    "categorical_features=[i for i in text_features if i not in string_features]\n",
    "numeric_features.remove(\"title_year\") \n",
    "categorical_features.append(\"title_year\")\n",
    "### Title_year is categorical\n",
    "### all the others can be considered continuous \n",
    "from sklearn.preprocessing import Imputer\n",
    "from sklearn.preprocessing import StandardScaler \n",
    "## we use standard scaler to keep as much variance as possible (compared to minmax)\n",
    "imp=Imputer(missing_values='NaN',strategy=\"most_frequent\", axis=0)\n",
    "df[numeric_features]=imp.fit_transform(df[numeric_features])\n",
    "\n",
    "scl=StandardScaler()\n",
    "df[numeric_features]=scl.fit_transform(df[numeric_features])\n",
    "pd.set_option('max_columns',15)\n",
    "df[numeric_features].head()"
   ]
  },
  {
   "cell_type": "markdown",
   "metadata": {},
   "source": [
    "__Numeric features : imputation and scaling end__"
   ]
  },
  {
   "cell_type": "markdown",
   "metadata": {},
   "source": [
    "__Testing perceptron to get baseline for estimates to improve upon start__"
   ]
  },
  {
   "cell_type": "code",
   "execution_count": 8,
   "metadata": {},
   "outputs": [
    {
     "data": {
      "text/plain": [
       "Perceptron(alpha=0.0001, class_weight=None, eta0=0.1, fit_intercept=True,\n",
       "      max_iter=400, n_iter=None, n_jobs=1, penalty=None, random_state=16,\n",
       "      shuffle=True, tol=None, verbose=0, warm_start=False)"
      ]
     },
     "execution_count": 8,
     "metadata": {},
     "output_type": "execute_result"
    }
   ],
   "source": [
    "from sklearn.linear_model import Perceptron\n",
    "\n",
    "ppn = Perceptron(max_iter=400, eta0=0.1, random_state=16)\n",
    "ppn.fit(X_train_std, y_train)"
   ]
  },
  {
   "cell_type": "code",
   "execution_count": 9,
   "metadata": {},
   "outputs": [
    {
     "name": "stdout",
     "output_type": "stream",
     "text": [
      "Misclassified samples: 345\n"
     ]
    }
   ],
   "source": [
    "y_pred = ppn.predict(X_test_std)\n",
    "print('Misclassified samples: %d' % (y_test != y_pred).sum())"
   ]
  },
  {
   "cell_type": "code",
   "execution_count": 10,
   "metadata": {},
   "outputs": [
    {
     "name": "stdout",
     "output_type": "stream",
     "text": [
      "Accuracy: 0.38\n"
     ]
    }
   ],
   "source": [
    "from sklearn.metrics import accuracy_score\n",
    "\n",
    "print('Accuracy: %.2f' % accuracy_score(y_test, y_pred))"
   ]
  },
  {
   "cell_type": "code",
   "execution_count": 11,
   "metadata": {},
   "outputs": [
    {
     "name": "stdout",
     "output_type": "stream",
     "text": [
      "Accuracy: 0.38\n"
     ]
    }
   ],
   "source": [
    "print('Accuracy: %.2f' % ppn.score(X_test_std, y_test))"
   ]
  },
  {
   "cell_type": "markdown",
   "metadata": {},
   "source": [
    "__Testing perceptron to get baseline for estimates to improve upon end__"
   ]
  },
  {
   "cell_type": "markdown",
   "metadata": {},
   "source": [
    "__Correlation of the numeric features with the IMDB score start__"
   ]
  },
  {
   "cell_type": "code",
   "execution_count": 12,
   "metadata": {},
   "outputs": [
    {
     "name": "stdout",
     "output_type": "stream",
     "text": [
      "[('imdb_score', (1.0, 0.0)), ('num_voted_users', (0.5138419710319546, 2.4910628319419037e-150)), ('num_critic_for_reviews', (0.46161634874811247, 6.02663282741769e-118)), ('duration', (0.3987832183436967, 8.828594040536948e-86)), ('num_user_for_reviews', (0.3582827193165639, 1.968615672743182e-68)), ('movie_facebook_likes', (0.34037233361455393, 1.5962459115906572e-61)), ('gross', (0.26918938044706897, 2.829795534258081e-38)), ('director_facebook_likes', (0.19881673585207454, 2.7500992180208385e-21)), ('budget', (0.16024741645259793, 2.800633412735834e-14)), ('cast_total_facebook_likes', (0.149809882724836, 1.1957648566077103e-12)), ('actor_2_facebook_likes', (0.13422740607520575, 2.023049179634092e-10)), ('actor_1_facebook_likes', (0.12911092520822381, 9.651101268469614e-10)), ('actor_3_facebook_likes', (0.09740783280994107, 4.121555693545143e-06)), ('aspect_ratio', (-0.03532514184138586, 0.09559067927707245)), ('facenumber_in_poster', (-0.08842296093413707, 2.9328209921044538e-05))]\n"
     ]
    }
   ],
   "source": [
    "import operator\n",
    "from scipy.stats import pearsonr\n",
    "correl={}\n",
    "for f in numeric_features:\n",
    "    correl[f]=pearsonr(df[f], df.imdb_score)\n",
    "sorted_cor = sorted(correl.items(), key=operator.itemgetter(1), reverse=True)\n",
    "print (sorted_cor)"
   ]
  },
  {
   "cell_type": "code",
   "execution_count": 13,
   "metadata": {},
   "outputs": [
    {
     "data": {
      "image/png": "[encoded data removed]",
      "text/plain": [
       "<Figure size 864x648 with 2 Axes>"
      ]
     },
     "metadata": {},
     "output_type": "display_data"
    }
   ],
   "source": [
    "import seaborn as sns\n",
    "import matplotlib.pyplot as plt\n",
    "def corrmap(features, title):\n",
    "    sns.set(context=\"paper\", font=\"monospace\")\n",
    "    corrmat = df[features].corr()\n",
    "    f, ax = plt.subplots(figsize=(12, 9))\n",
    "    plt.title(title, **title_font)\n",
    "# Draw the heatmap using seaborn\n",
    "    sns.heatmap(corrmat, vmax=.8, square=True)\n",
    "corrmap(numeric_features,\"Correlation matrix for numeric features\")\n",
    "plt.savefig('correlation_map.png', dpi=700)"
   ]
  },
  {
   "cell_type": "markdown",
   "metadata": {},
   "source": [
    "__Correlation of the numeric features with the IMDB score end__"
   ]
  },
  {
   "cell_type": "markdown",
   "metadata": {},
   "source": [
    "__L1-regularization start__"
   ]
  },
  {
   "cell_type": "code",
   "execution_count": 14,
   "metadata": {},
   "outputs": [
    {
     "name": "stdout",
     "output_type": "stream",
     "text": [
      "Training accuracy: 0.5047904191616767\n",
      "Test accuracy: 0.473967684021544\n"
     ]
    },
    {
     "data": {
      "image/png": "[encoded data removed]",
      "text/plain": [
       "<Figure size 432x288 with 1 Axes>"
      ]
     },
     "metadata": {},
     "output_type": "display_data"
    }
   ],
   "source": [
    "from sklearn.linear_model import LogisticRegression\n",
    "LogisticRegression(penalty='l1')\n",
    "\n",
    "lr = LogisticRegression(penalty='l1', C=1.0)\n",
    "# Note that C=1.0 is the default. You can increase\n",
    "# or decrease it to make the regulariztion effect\n",
    "# stronger or weaker, respectively.\n",
    "# I use X_train_std[:, k3] instead of X_train_std based on the argumentation above.\n",
    "lr.fit(X_train_std, y_train)\n",
    "print('Training accuracy:', lr.score(X_train_std, y_train))\n",
    "print('Test accuracy:', lr.score(X_test_std, y_test))\n",
    "\n",
    "lr.intercept_\n",
    "np.set_printoptions(8)\n",
    "lr.coef_[lr.coef_!=0].shape\n",
    "lr.coef_\n",
    "\n",
    "import matplotlib.pyplot as plt\n",
    "\n",
    "fig = plt.figure()\n",
    "ax = plt.subplot(111)\n",
    "    \n",
    "colors = ['blue', 'green', 'red', 'cyan', \n",
    "          'magenta', 'yellow', 'black', \n",
    "          'pink', 'lightgreen', 'lightblue', \n",
    "          'gray', 'indigo', 'orange']\n",
    "\n",
    "weights, params = [], []\n",
    "for c in np.arange(-4., 6.):\n",
    "    lr = LogisticRegression(penalty='l1', C=10.**c, random_state=16)\n",
    "    lr.fit(X_train_std, y_train)\n",
    "    weights.append(lr.coef_[1])\n",
    "    params.append(10**c)\n",
    "\n",
    "weights = np.array(weights)\n",
    "\n",
    "for column, color in zip(range(weights.shape[1]), colors):\n",
    "    plt.plot(params, weights[:, column],\n",
    "             label=df.columns[column + 1],\n",
    "             color=color)\n",
    "plt.axhline(0, color='black', linestyle='--', linewidth=3)\n",
    "plt.xlim([10**(-5), 10**5])\n",
    "plt.ylabel('weight coefficient')\n",
    "plt.xlabel('C')\n",
    "plt.xscale('log')\n",
    "plt.legend(loc='upper left')\n",
    "ax.legend(loc='upper center', \n",
    "          bbox_to_anchor=(1.38, 1.03),\n",
    "          ncol=1, fancybox=True)\n",
    "plt.savefig('Weights_L1.png', dpi=300, bbox_inches='tight', pad_inches=0.2)\n",
    "plt.show()"
   ]
  },
  {
   "cell_type": "markdown",
   "metadata": {},
   "source": [
    "__L1-regularization end__"
   ]
  },
  {
   "cell_type": "markdown",
   "metadata": {},
   "source": [
    "__Assessing feature importance with Random Forests start__"
   ]
  },
  {
   "cell_type": "code",
   "execution_count": 15,
   "metadata": {},
   "outputs": [
    {
     "name": "stdout",
     "output_type": "stream",
     "text": [
      " 1) actor_2_name                   0.129690\n",
      " 2) director_name                  0.096114\n",
      " 3) num_critic_for_reviews         0.092185\n",
      " 4) genres                         0.090795\n",
      " 5) actor_1_name                   0.089304\n",
      " 6) actor_1_facebook_likes         0.072572\n",
      " 7) director_facebook_likes        0.072188\n",
      " 8) duration                       0.070663\n",
      " 9) num_voted_users                0.066787\n",
      "10) actor_3_facebook_likes         0.063624\n",
      "11) cast_total_facebook_likes      0.061252\n",
      "12) movie_title                    0.057945\n",
      "13) gross                          0.036881\n"
     ]
    },
    {
     "data": {
      "image/png": "[encoded data removed]",
      "text/plain": [
       "<Figure size 432x288 with 1 Axes>"
      ]
     },
     "metadata": {},
     "output_type": "display_data"
    },
    {
     "name": "stdout",
     "output_type": "stream",
     "text": [
      "Number of features that meet this threshold criterion: 5\n",
      " 1) actor_2_name                   0.129690\n",
      " 2) director_name                  0.096114\n",
      " 3) num_critic_for_reviews         0.092185\n",
      " 4) genres                         0.090795\n",
      " 5) actor_1_name                   0.089304\n"
     ]
    }
   ],
   "source": [
    "from sklearn.ensemble import RandomForestClassifier\n",
    "\n",
    "feat_labels = df.columns[1:]\n",
    "\n",
    "forest = RandomForestClassifier(n_estimators=500, random_state=16)\n",
    "\n",
    "forest.fit(X_train, y_train)\n",
    "importances = forest.feature_importances_\n",
    "\n",
    "indices = np.argsort(importances)[::-1]\n",
    "\n",
    "for f in range(X_train.shape[1]):\n",
    "    print(\"%2d) %-*s %f\" % (f + 1, 30, feat_labels[indices[f]], importances[indices[f]]))\n",
    "\n",
    "plt.title('Feature Importance')\n",
    "plt.bar(range(X_train.shape[1]), \n",
    "        importances[indices],\n",
    "        align='center')\n",
    "\n",
    "plt.xticks(range(X_train.shape[1]), \n",
    "           feat_labels[indices], rotation=90)\n",
    "plt.xlim([-1, X_train.shape[1]])\n",
    "plt.tight_layout()\n",
    "plt.savefig('Feature_importance_RF.png', dpi=300)\n",
    "plt.show()\n",
    "\n",
    "from sklearn.feature_selection import SelectFromModel\n",
    "\n",
    "sfm = SelectFromModel(forest, threshold=0.08, prefit=True)\n",
    "X_selected = sfm.transform(X_train)\n",
    "print('Number of features that meet this threshold criterion:', X_selected.shape[1])\n",
    "for f in range(X_selected.shape[1]):\n",
    "    print(\"%2d) %-*s %f\" % (f + 1, 30, feat_labels[indices[f]], importances[indices[f]]))"
   ]
  },
  {
   "cell_type": "markdown",
   "metadata": {},
   "source": [
    "From the model above I can conclude that the names of the actors and the director, as well as the genre and number of critics are the most important features of a movie.\n",
    "__Assessing feature importance with Random Forests end__"
   ]
  },
  {
   "cell_type": "code",
   "execution_count": 16,
   "metadata": {},
   "outputs": [
    {
     "name": "stdout",
     "output_type": "stream",
     "text": [
      "Test Accuracy: 0.449\n"
     ]
    }
   ],
   "source": [
    "from sklearn.preprocessing import StandardScaler\n",
    "from sklearn.decomposition import PCA\n",
    "from sklearn.linear_model import LogisticRegression\n",
    "from sklearn.pipeline import make_pipeline\n",
    "\n",
    "pipe_lr = make_pipeline(StandardScaler(), PCA(n_components=10), LogisticRegression(random_state=16))\n",
    "\n",
    "pipe_lr.fit(X_train, y_train)\n",
    "y_pred = pipe_lr.predict(X_test)\n",
    "print('Test Accuracy: %.3f' % pipe_lr.score(X_test, y_test))"
   ]
  },
  {
   "cell_type": "code",
   "execution_count": 17,
   "metadata": {},
   "outputs": [
    {
     "data": {
      "text/plain": [
       "0.4578096947935368"
      ]
     },
     "execution_count": 17,
     "metadata": {},
     "output_type": "execute_result"
    }
   ],
   "source": [
    "from sklearn.linear_model import LogisticRegression\n",
    "from sklearn.metrics import accuracy_score\n",
    "\n",
    "log = LogisticRegression(penalty='l2',C=1)\n",
    "log.fit(X_train,y_train)\n",
    "\n",
    "accuracy_score(y_test,log.predict(X_test))"
   ]
  },
  {
   "cell_type": "markdown",
   "metadata": {},
   "source": [
    "__SBS setup start__\n",
    "\n",
    "The following feature selection method is based on Sequeltial Backwards Selection:"
   ]
  },
  {
   "cell_type": "code",
   "execution_count": 18,
   "metadata": {},
   "outputs": [],
   "source": [
    "from sklearn.base import clone\n",
    "from itertools import combinations\n",
    "from sklearn.metrics import accuracy_score\n",
    "from sklearn.model_selection import train_test_split\n",
    "\n",
    "class SBS():\n",
    "    def __init__(self, estimator, k_features, scoring=accuracy_score, test_size=0.25, random_state=16):\n",
    "        self.scoring = scoring\n",
    "        self.estimator = clone(estimator)\n",
    "        self.k_features = k_features\n",
    "        self.test_size = test_size\n",
    "        self.random_state = random_state\n",
    "\n",
    "    def fit(self, X, y):\n",
    "        \n",
    "        X_train, X_test, y_train, y_test = train_test_split(X, y, test_size=self.test_size,random_state=self.random_state)\n",
    "\n",
    "        dim = X_train.shape[1]\n",
    "        self.indices_ = tuple(range(dim))\n",
    "        self.subsets_ = [self.indices_]\n",
    "        score = self._calc_score(X_train, y_train, X_test, y_test, self.indices_)\n",
    "        self.scores_ = [score]\n",
    "\n",
    "        while dim > self.k_features:\n",
    "            scores = []\n",
    "            subsets = []\n",
    "\n",
    "            for p in combinations(self.indices_, r=dim - 1):\n",
    "                score = self._calc_score(X_train, y_train, X_test, y_test, p)\n",
    "                scores.append(score)\n",
    "                subsets.append(p)\n",
    "\n",
    "            best = np.argmax(scores)\n",
    "            self.indices_ = subsets[best]\n",
    "            self.subsets_.append(self.indices_)\n",
    "            dim -= 1\n",
    "\n",
    "            self.scores_.append(scores[best])\n",
    "        self.k_score_ = self.scores_[-1]\n",
    "\n",
    "        return self\n",
    "\n",
    "    def transform(self, X):\n",
    "        return X[:, self.indices_]\n",
    "\n",
    "    def _calc_score(self, X_train, y_train, X_test, y_test, indices):\n",
    "        self.estimator.fit(X_train[:, indices], y_train)\n",
    "        y_pred = self.estimator.predict(X_test[:, indices])\n",
    "        score = self.scoring(y_test, y_pred)\n",
    "        return score"
   ]
  },
  {
   "cell_type": "markdown",
   "metadata": {},
   "source": [
    "SBS class is now defined. It is used below.\n",
    "\n",
    "__SBS setup end__"
   ]
  },
  {
   "cell_type": "markdown",
   "metadata": {},
   "source": [
    "__SBS implementation in action using the KNN classifier from scikit-learn start__\n",
    "\n",
    "Below I use the SBS to select features."
   ]
  },
  {
   "cell_type": "code",
   "execution_count": 19,
   "metadata": {},
   "outputs": [
    {
     "data": {
      "image/png": "[encoded data removed]",
      "text/plain": [
       "<Figure size 432x288 with 1 Axes>"
      ]
     },
     "metadata": {},
     "output_type": "display_data"
    }
   ],
   "source": [
    "import matplotlib.pyplot as plt\n",
    "from sklearn.neighbors import KNeighborsClassifier\n",
    "\n",
    "knn = KNeighborsClassifier(n_neighbors=10)\n",
    "\n",
    "# selecting features\n",
    "SBS = SBS(knn, k_features=1)\n",
    "SBS.fit(X_train_std, y_train)\n",
    "\n",
    "# plotting performance of feature subsets\n",
    "k_feat = [len(k) for k in SBS.subsets_]\n",
    "\n",
    "plt.plot(k_feat, SBS.scores_, marker='o')\n",
    "plt.ylim([0.3, 0.9])\n",
    "plt.ylabel('Accuracy')\n",
    "plt.xlabel('Number of features')\n",
    "plt.grid()\n",
    "plt.tight_layout()\n",
    "plt.savefig('SBS_implemented.png', dpi=300)\n",
    "plt.show()"
   ]
  },
  {
   "cell_type": "markdown",
   "metadata": {},
   "source": [
    "Accuracy reaches a steady level after 4 features. Hence adding extra features does not help our model."
   ]
  },
  {
   "cell_type": "code",
   "execution_count": 20,
   "metadata": {},
   "outputs": [
    {
     "name": "stdout",
     "output_type": "stream",
     "text": [
      "Index(['num_critic_for_reviews', 'actor_2_name', 'actor_1_name'], dtype='object')\n"
     ]
    }
   ],
   "source": [
    "k3 = list(SBS.subsets_[10])\n",
    "print(df.columns[1:][k3])"
   ]
  },
  {
   "cell_type": "code",
   "execution_count": 21,
   "metadata": {},
   "outputs": [
    {
     "name": "stdout",
     "output_type": "stream",
     "text": [
      "Training accuracy: 0.5760479041916168\n",
      "Test accuracy: 0.4398563734290844\n"
     ]
    }
   ],
   "source": [
    "knn.fit(X_train_std, y_train)\n",
    "print('Training accuracy:', knn.score(X_train_std, y_train))\n",
    "print('Test accuracy:', knn.score(X_test_std, y_test))"
   ]
  },
  {
   "cell_type": "code",
   "execution_count": 22,
   "metadata": {},
   "outputs": [
    {
     "name": "stdout",
     "output_type": "stream",
     "text": [
      "Training accuracy: 0.5682634730538922\n",
      "Test accuracy: 0.4614003590664273\n"
     ]
    }
   ],
   "source": [
    "knn.fit(X_train_std[:, k3], y_train)\n",
    "print('Training accuracy:', knn.score(X_train_std[:, k3], y_train))\n",
    "print('Test accuracy:', knn.score(X_test_std[:, k3], y_test))"
   ]
  },
  {
   "cell_type": "markdown",
   "metadata": {},
   "source": [
    "From the figure above we see that using the subset of four features does not increase accuracy. The real gain using this subset is that the dataset has been reduces significantly, which then requires less computational power. Henceforth X_train_std[:, k3] is used instead of X_train_std.\n",
    "\n",
    "__SBS implementation in action using the KNN classifier from scikit-learn end__"
   ]
  },
  {
   "cell_type": "markdown",
   "metadata": {},
   "source": [
    "## Models"
   ]
  },
  {
   "cell_type": "code",
   "execution_count": 23,
   "metadata": {},
   "outputs": [
    {
     "data": {
      "text/plain": [
       "0.39138240574506283"
      ]
     },
     "execution_count": 23,
     "metadata": {},
     "output_type": "execute_result"
    }
   ],
   "source": [
    "knn=KNeighborsClassifier(n_neighbors=100)\n",
    "knn.fit(X_train,y_train)\n",
    "\n",
    "accuracy_score(y_test,knn.predict(X_test))"
   ]
  },
  {
   "cell_type": "code",
   "execution_count": 24,
   "metadata": {},
   "outputs": [
    {
     "name": "stdout",
     "output_type": "stream",
     "text": [
      "Gini accuracy = 0.45960502692998206\n"
     ]
    }
   ],
   "source": [
    "from sklearn.tree import DecisionTreeClassifier\n",
    "clf_gini = DecisionTreeClassifier(criterion =\"gini\",random_state=16)\n",
    "clf_gini.fit(X_train,y_train)\n",
    "\n",
    "y_predict = clf_gini.predict(X_test)\n",
    "y_predict\n",
    "\n",
    "print(\"Gini accuracy =\",accuracy_score(y_test,y_predict))"
   ]
  },
  {
   "cell_type": "code",
   "execution_count": 25,
   "metadata": {},
   "outputs": [
    {
     "name": "stdout",
     "output_type": "stream",
     "text": [
      "Entropy accuracy = 0.42908438061041293\n"
     ]
    }
   ],
   "source": [
    "clf_entropy = DecisionTreeClassifier(criterion =\"entropy\",random_state=16)\n",
    "clf_entropy.fit(X_train,y_train)\n",
    "\n",
    "y_predict_entropy = clf_entropy.predict(X_test)\n",
    "\n",
    "print(\"Entropy accuracy =\",accuracy_score(y_test,y_predict_entropy))"
   ]
  },
  {
   "cell_type": "markdown",
   "metadata": {},
   "source": [
    "__Total and explained variance start__"
   ]
  },
  {
   "cell_type": "code",
   "execution_count": 26,
   "metadata": {},
   "outputs": [
    {
     "name": "stdout",
     "output_type": "stream",
     "text": [
      "\n",
      "Eigenvalues \n",
      "[4.39176151e+00 2.05975686e+00 1.39480259e+00 1.68349882e-03\n",
      " 1.72229433e-01 2.06907179e-01 9.69809490e-01 8.90122246e-01\n",
      " 8.50068034e-01 3.54512334e-01 4.61942920e-01 6.54309445e-01\n",
      " 5.99883558e-01]\n"
     ]
    }
   ],
   "source": [
    "import numpy as np\n",
    "cov_mat = np.cov(X_train_std.T)\n",
    "eigen_vals, eigen_vecs = np.linalg.eig(cov_mat)\n",
    "\n",
    "print('\\nEigenvalues \\n%s' % eigen_vals)"
   ]
  },
  {
   "cell_type": "code",
   "execution_count": 27,
   "metadata": {},
   "outputs": [],
   "source": [
    "tot = sum(eigen_vals)\n",
    "var_exp = [(i / tot) for i in sorted(eigen_vals, reverse=True)]\n",
    "cum_var_exp = np.cumsum(var_exp)"
   ]
  },
  {
   "cell_type": "code",
   "execution_count": 28,
   "metadata": {},
   "outputs": [
    {
     "data": {
      "image/png": "[encoded data removed]",
      "text/plain": [
       "<Figure size 432x288 with 1 Axes>"
      ]
     },
     "metadata": {},
     "output_type": "display_data"
    }
   ],
   "source": [
    "import matplotlib.pyplot as plt\n",
    "\n",
    "plt.bar(range(1, 14), var_exp, alpha=0.5, align='center', label='individual explained variance')\n",
    "plt.step(range(1, 14), cum_var_exp, where='mid', label='cumulative explained variance')\n",
    "plt.ylabel('Explained variance ratio')\n",
    "plt.xlabel('Principal component index')\n",
    "plt.legend(loc='best')\n",
    "plt.tight_layout()\n",
    "plt.savefig('Explained_variance_PCA.png', dpi=300)\n",
    "plt.show()"
   ]
  },
  {
   "cell_type": "markdown",
   "metadata": {},
   "source": [
    "__Total and explained variance end__"
   ]
  },
  {
   "cell_type": "markdown",
   "metadata": {},
   "source": [
    "__Pipelines start__"
   ]
  },
  {
   "cell_type": "code",
   "execution_count": 29,
   "metadata": {},
   "outputs": [
    {
     "name": "stdout",
     "output_type": "stream",
     "text": [
      "Test Accuracy: 0.479\n"
     ]
    }
   ],
   "source": [
    "from sklearn.preprocessing import StandardScaler\n",
    "from sklearn.decomposition import PCA\n",
    "from sklearn.linear_model import LogisticRegression\n",
    "from sklearn.pipeline import make_pipeline\n",
    "\n",
    "pipe_lr = make_pipeline(StandardScaler(), PCA(n_components=13),LogisticRegression(random_state=16))\n",
    "\n",
    "pipe_lr.fit(X_train, y_train)\n",
    "y_pred = pipe_lr.predict(X_test)\n",
    "print('Test Accuracy: %.3f' % pipe_lr.score(X_test, y_test))"
   ]
  },
  {
   "cell_type": "markdown",
   "metadata": {},
   "source": [
    "from sklearn.linear_model import LogisticRegression\n",
    "LogisticRegression(penalty='l1')\n",
    "lr = LogisticRegression(penalty='l1', C=1, random_state=16)\n",
    "lr.fit(X_train_std, y_train)\n",
    "print('Training accuracy:', lr.score(X_train_std, y_train))\n",
    "print('Test accuracy:', lr.score(X_test_std, y_test))\n",
    "lr.intercept_\n",
    "lr.coef_"
   ]
  },
  {
   "cell_type": "code",
   "execution_count": 30,
   "metadata": {},
   "outputs": [
    {
     "name": "stdout",
     "output_type": "stream",
     "text": [
      "0.5083832335329341\n",
      "{'svc__C': 10, 'svc__gamma': 0.1, 'svc__kernel': 'rbf'}\n"
     ]
    }
   ],
   "source": [
    "from sklearn.model_selection import GridSearchCV\n",
    "from sklearn.svm import SVC\n",
    "\n",
    "pipe_svc = make_pipeline(StandardScaler(), SVC(random_state=16))\n",
    "\n",
    "param_range = [0.1, 1, 10, 20]\n",
    "\n",
    "param_grid = [{'svc__C': param_range,'svc__kernel': ['linear']},{'svc__C': param_range, 'svc__gamma': param_range, 'svc__kernel': ['rbf']}]\n",
    "\n",
    "gs = GridSearchCV(estimator=pipe_svc, param_grid=param_grid,scoring='accuracy', cv=5, n_jobs=-1)\n",
    "gs = gs.fit(X_train, y_train)\n",
    "print(gs.best_score_)\n",
    "print(gs.best_params_)"
   ]
  },
  {
   "cell_type": "markdown",
   "metadata": {},
   "source": [
    "__Pipelines end__"
   ]
  },
  {
   "cell_type": "code",
   "execution_count": 31,
   "metadata": {},
   "outputs": [
    {
     "name": "stdout",
     "output_type": "stream",
     "text": [
      "Fold:  1, Class dist.: [  0   0   0  27 120 396 604 379  58], Acc: 0.465\n",
      "Fold:  2, Class dist.: [  0   0   0  27 120 396 604 379  58], Acc: 0.430\n",
      "Fold:  3, Class dist.: [  0   0   0  27 120 396 604 379  59], Acc: 0.553\n",
      "Fold:  4, Class dist.: [  0   0   0  27 120 396 604 379  59], Acc: 0.494\n",
      "Fold:  5, Class dist.: [  0   0   0  27 120 396 604 379  59], Acc: 0.494\n",
      "Fold:  6, Class dist.: [  0   0   0  27 120 396 604 379  59], Acc: 0.459\n",
      "Fold:  7, Class dist.: [  0   0   0  27 120 396 604 379  59], Acc: 0.482\n",
      "Fold:  8, Class dist.: [  0   0   0  27 121 396 604 379  59], Acc: 0.476\n",
      "Fold:  9, Class dist.: [  0   0   0  27 121 396 604 379  59], Acc: 0.512\n",
      "Fold: 10, Class dist.: [  0   0   0  28 121 396 604 379  59], Acc: 0.458\n",
      "Fold: 11, Class dist.: [  0   0   0  28 121 396 604 379  59], Acc: 0.470\n",
      "Fold: 12, Class dist.: [  0   0   0  28 121 396 604 379  59], Acc: 0.578\n",
      "Fold: 13, Class dist.: [  0   0   0  28 121 396 604 379  59], Acc: 0.542\n",
      "Fold: 14, Class dist.: [  0   0   0  28 121 396 604 379  59], Acc: 0.518\n",
      "Fold: 15, Class dist.: [  0   0   0  28 121 396 604 379  59], Acc: 0.506\n",
      "Fold: 16, Class dist.: [  0   0   0  28 121 396 604 379  59], Acc: 0.386\n",
      "Fold: 17, Class dist.: [  0   0   0  28 121 396 605 379  59], Acc: 0.561\n",
      "Fold: 18, Class dist.: [  0   0   0  28 121 397 605 379  59], Acc: 0.444\n",
      "Fold: 19, Class dist.: [  0   0   0  28 121 397 605 379  59], Acc: 0.543\n",
      "Fold: 20, Class dist.: [  0   0   0  28 121 397 605 380  59], Acc: 0.425\n",
      "\n",
      "CV accuracy: 0.490 +/- 0.049\n"
     ]
    }
   ],
   "source": [
    "import numpy as np\n",
    "from sklearn.model_selection import StratifiedKFold\n",
    "    \n",
    "\n",
    "kfold = StratifiedKFold(n_splits=20, random_state=16).split(X_train, y_train)\n",
    "\n",
    "scores = []\n",
    "for k, (train, test) in enumerate(kfold):\n",
    "    pipe_lr.fit(X_train[train], y_train[train])\n",
    "    score = pipe_lr.score(X_train[test], y_train[test])\n",
    "    scores.append(score)\n",
    "    print('Fold: %2d, Class dist.: %s, Acc: %.3f' % (k+1,\n",
    "          np.bincount(y_train[train]), score))\n",
    "    \n",
    "print('\\nCV accuracy: %.3f +/- %.3f' % (np.mean(scores), np.std(scores)))"
   ]
  },
  {
   "cell_type": "markdown",
   "metadata": {},
   "source": [
    "__Diagnosing bias and variance problems with learning curves start__"
   ]
  },
  {
   "cell_type": "code",
   "execution_count": 32,
   "metadata": {},
   "outputs": [
    {
     "data": {
      "image/png": "[encoded data removed]",
      "text/plain": [
       "<Figure size 432x288 with 1 Axes>"
      ]
     },
     "metadata": {},
     "output_type": "display_data"
    }
   ],
   "source": [
    "import matplotlib.pyplot as plt\n",
    "from sklearn.model_selection import learning_curve\n",
    "\n",
    "pipe_lr = make_pipeline(StandardScaler(), LogisticRegression(penalty='l2', random_state=16))\n",
    "\n",
    "train_sizes, train_scores, test_scores = learning_curve(estimator=pipe_lr, X=X_train, y=y_train, train_sizes=np.linspace(0.1, 1.0, 10), cv=5, n_jobs=1)\n",
    "\n",
    "train_mean = np.mean(train_scores, axis=1)\n",
    "train_std = np.std(train_scores, axis=1)\n",
    "test_mean = np.mean(test_scores, axis=1)\n",
    "test_std = np.std(test_scores, axis=1)\n",
    "\n",
    "plt.plot(train_sizes, train_mean, color='blue', marker='o', markersize=5, label='training accuracy')\n",
    "\n",
    "plt.fill_between(train_sizes, train_mean + train_std, train_mean - train_std, alpha=0.15, color='blue')\n",
    "\n",
    "plt.plot(train_sizes, test_mean, color='green', linestyle='--', marker='s', markersize=5, label='validation accuracy')\n",
    "\n",
    "plt.fill_between(train_sizes, test_mean + test_std, test_mean - test_std, alpha=0.15, color='green')\n",
    "\n",
    "plt.grid()\n",
    "plt.xlabel('Number of training samples')\n",
    "plt.ylabel('Accuracy')\n",
    "plt.legend(loc='lower right')\n",
    "plt.ylim([0.35, 0.70])\n",
    "plt.tight_layout()\n",
    "plt.savefig('Learning_curves.png', dpi=300)\n",
    "plt.show()"
   ]
  },
  {
   "cell_type": "markdown",
   "metadata": {},
   "source": [
    "Based on the learning curves above, the number of training samples reach a stable level at around 900, hence accuracy does not increase significantly afterwards."
   ]
  },
  {
   "cell_type": "markdown",
   "metadata": {},
   "source": [
    "__Diagnosing bias and variance problems with learning curves end__"
   ]
  },
  {
   "cell_type": "markdown",
   "metadata": {},
   "source": [
    "__Addressing over- and underfitting with validation curves start__"
   ]
  },
  {
   "cell_type": "code",
   "execution_count": 33,
   "metadata": {},
   "outputs": [
    {
     "data": {
      "image/png": "[encoded data removed]",
      "text/plain": [
       "<Figure size 432x288 with 1 Axes>"
      ]
     },
     "metadata": {},
     "output_type": "display_data"
    }
   ],
   "source": [
    "from sklearn.model_selection import validation_curve\n",
    "\n",
    "\n",
    "param_range = [0.001, 0.01, 0.1, 1, 10, 50]\n",
    "train_scores, test_scores = validation_curve(estimator=pipe_lr, X=X_train, y=y_train, param_name='logisticregression__C', param_range=param_range, cv=5)\n",
    "\n",
    "train_mean = np.mean(train_scores, axis=1)\n",
    "train_std = np.std(train_scores, axis=1)\n",
    "test_mean = np.mean(test_scores, axis=1)\n",
    "test_std = np.std(test_scores, axis=1)\n",
    "\n",
    "plt.plot(param_range, train_mean, color='blue', marker='o', markersize=5, label='training accuracy')\n",
    "\n",
    "plt.fill_between(param_range, train_mean + train_std, train_mean - train_std, alpha=0.15, color='blue')\n",
    "\n",
    "plt.plot(param_range, test_mean, color='green', linestyle='--', marker='s', markersize=5, label='validation accuracy')\n",
    "\n",
    "plt.fill_between(param_range, test_mean + test_std, test_mean - test_std, alpha=0.15, color='green')\n",
    "\n",
    "plt.grid()\n",
    "plt.xscale('log')\n",
    "plt.legend(loc='lower right')\n",
    "plt.xlabel('Parameter C')\n",
    "plt.ylabel('Accuracy')\n",
    "plt.ylim([0.35, 0.6])\n",
    "plt.tight_layout()\n",
    "plt.savefig('Validation_curves.png', dpi=300)\n",
    "plt.show()"
   ]
  },
  {
   "cell_type": "markdown",
   "metadata": {},
   "source": [
    "Based on the validation curves above, a good value is 1 for parameter C to reach a stable accuracy. Increasing C to e.g. 10 and 100 does not increase the accuracy significantly. \n",
    "__Addressing over- and underfitting with validation curves end__"
   ]
  },
  {
   "cell_type": "markdown",
   "metadata": {},
   "source": [
    "__SVC cross-validation start__\n",
    "\n",
    "I use cross-validation in order to ensure stability of the model by randomly splitting the training into k folds without replacements. k-1 folds is used for training and the last fold is used for measuring accuracy. This is done 10 times to obtain 10 estimates to ensure stability."
   ]
  },
  {
   "cell_type": "code",
   "execution_count": 34,
   "metadata": {},
   "outputs": [
    {
     "name": "stdout",
     "output_type": "stream",
     "text": [
      "CV accuracy scores: [0.44970414 0.53846154 0.42857143 0.51785714 0.49404762 0.51785714\n",
      " 0.51497006 0.41818182 0.4969697  0.48466258]\n",
      "CV accuracy: 0.486 +/- 0.039\n"
     ]
    }
   ],
   "source": [
    "from sklearn.model_selection import cross_val_score\n",
    "\n",
    "scores = cross_val_score(estimator=pipe_svc,\n",
    "                         X=X_train,\n",
    "                         y=y_train,\n",
    "                         cv=10,\n",
    "                         n_jobs=1)\n",
    "print('CV accuracy scores: %s' % scores)\n",
    "print('CV accuracy: %.3f +/- %.3f' % (np.mean(scores), np.std(scores)))"
   ]
  },
  {
   "cell_type": "markdown",
   "metadata": {},
   "source": [
    "__SVC cross-validation end__"
   ]
  }
 ],
 "metadata": {
  "kernelspec": {
   "display_name": "Python 3",
   "language": "python",
   "name": "python3"
  },
  "language_info": {
   "codemirror_mode": {
    "name": "ipython",
    "version": 3
   },
   "file_extension": ".py",
   "mimetype": "text/x-python",
   "name": "python",
   "nbconvert_exporter": "python",
   "pygments_lexer": "ipython3",
   "version": "3.6.5"
  }
 },
 "nbformat": 4,
 "nbformat_minor": 2
}
